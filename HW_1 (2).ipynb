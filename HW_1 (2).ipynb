{
  "nbformat": 4,
  "nbformat_minor": 0,
  "metadata": {
    "colab": {
      "name": "HW_1.ipynb",
      "provenance": []
    },
    "kernelspec": {
      "name": "python3",
      "display_name": "Python 3"
    },
    "language_info": {
      "name": "python"
    }
  },
  "cells": [
    {
      "cell_type": "markdown",
      "metadata": {
        "id": "VVOf8urT9wNQ"
      },
      "source": [
        "<p>What is the value of <code>x</code> where <code>x = 3 + 2 * 2</code></p>"
      ]
    },
    {
      "cell_type": "markdown",
      "metadata": {
        "id": "EAPea0lO9wJx"
      },
      "source": [
        "<p>What is the value of <code>y</code> where <code>y = (3 + 2) * 2</code>?</p>"
      ]
    },
    {
      "cell_type": "markdown",
      "metadata": {
        "id": "9sHsht_t-A2T"
      },
      "source": [
        "<p>What is the value of <code>z</code> where <code>z = x + y</code>?</p>"
      ]
    },
    {
      "cell_type": "markdown",
      "metadata": {
        "id": "oHMt__FI-Ax6"
      },
      "source": [
        "What is the value of the variable <code>A</code> after the following code is executed? "
      ]
    },
    {
      "cell_type": "code",
      "metadata": {
        "id": "JHG4OSPW-Olo"
      },
      "source": [
        "# Write your code below and press Shift+Enter to execute \n",
        "\n",
        "A = \"1\""
      ],
      "execution_count": null,
      "outputs": []
    },
    {
      "cell_type": "markdown",
      "metadata": {
        "id": "AZZVic14-Avr"
      },
      "source": [
        "What is the value of the variable <code>B</code> after the following code is executed?\n"
      ]
    },
    {
      "cell_type": "code",
      "metadata": {
        "id": "khOHgOQF-YAy"
      },
      "source": [
        "# Write your code below and press Shift+Enter to execute\n",
        "\n",
        "B = \"2\""
      ],
      "execution_count": null,
      "outputs": []
    },
    {
      "cell_type": "markdown",
      "metadata": {
        "id": "O0aKcEmw-Asb"
      },
      "source": [
        "What is the value of the variable <code>C</code> after the following code is  executed?"
      ]
    },
    {
      "cell_type": "code",
      "metadata": {
        "id": "Mg8cHJ04-do9"
      },
      "source": [
        "# Write your code below and press Shift+Enter to execute \n",
        "\n",
        "C = A + B"
      ],
      "execution_count": null,
      "outputs": []
    },
    {
      "cell_type": "markdown",
      "metadata": {
        "id": "bdIk9xHf-Apo"
      },
      "source": [
        "Consider the variable <code>D</code> use slicing to print out the first three elements:"
      ]
    },
    {
      "cell_type": "code",
      "metadata": {
        "id": "RXMfBhXR-i-k"
      },
      "source": [
        "# Write your code below and press Shift+Enter to execute\n",
        "\n",
        "D = \"ABCDEFG\""
      ],
      "execution_count": null,
      "outputs": []
    },
    {
      "cell_type": "markdown",
      "metadata": {
        "id": "aIAuAQTC-lcN"
      },
      "source": [
        "Use a stride value of 2 to print out every second character of the string E:"
      ]
    },
    {
      "cell_type": "code",
      "metadata": {
        "id": "IakX9t_4-mEg"
      },
      "source": [
        "# Write your code below and press Shift+Enter to execute\n",
        "\n",
        "E = 'clocrkr1e1c1t'"
      ],
      "execution_count": null,
      "outputs": []
    },
    {
      "cell_type": "markdown",
      "metadata": {
        "id": "lWchuFsL-ps0"
      },
      "source": [
        "Print out a backslash:"
      ]
    },
    {
      "cell_type": "markdown",
      "metadata": {
        "id": "PuR77UMq-rrE"
      },
      "source": [
        "Convert the variable F to uppercase:"
      ]
    },
    {
      "cell_type": "code",
      "metadata": {
        "id": "T28ZtD8H-tGq"
      },
      "source": [
        "# Write your code below and press Shift+Enter to execute\n",
        "\n",
        "F = \"You are wrong\""
      ],
      "execution_count": null,
      "outputs": []
    },
    {
      "cell_type": "markdown",
      "metadata": {
        "id": "Hzcgzt8t-vkm"
      },
      "source": [
        "Consider the variable G, and find the first index of the sub-string snow:"
      ]
    },
    {
      "cell_type": "code",
      "metadata": {
        "id": "lf1xzaHd-xaq"
      },
      "source": [
        "# Write your code below and press Shift+Enter to execute\n",
        "\n",
        "G = \"Mary had a little lamb Little lamb, little lamb Mary had a little lamb \\\n",
        "Its fleece was white as snow And everywhere that Mary went Mary went, Mary went \\\n",
        "Everywhere that Mary went The lamb was sure to go\""
      ],
      "execution_count": null,
      "outputs": []
    },
    {
      "cell_type": "markdown",
      "metadata": {
        "id": "PBco1don-0Qu"
      },
      "source": [
        "In the variable G, replace the sub-string Mary with Bob:"
      ]
    },
    {
      "cell_type": "markdown",
      "metadata": {
        "id": "2UXuORGM-7oy"
      },
      "source": [
        "Create a list <code>a_list</code>, with the following elements <code>1</code>, <code>hello</code>, <code>[1,2,3]</code> and <code>True</code>. "
      ]
    },
    {
      "cell_type": "markdown",
      "metadata": {
        "id": "4BOG1ckX_EwT"
      },
      "source": [
        "Given the following dictinary and=swer the questions:"
      ]
    },
    {
      "cell_type": "code",
      "metadata": {
        "id": "iaxZf2BY_IF6"
      },
      "source": [
        "# Question sample dictionary\n",
        "\n",
        "soundtrack_dic = {\"The Bodyguard\":\"1992\", \"Saturday Night Fever\":\"1977\"}\n",
        "soundtrack_dic "
      ],
      "execution_count": null,
      "outputs": []
    },
    {
      "cell_type": "markdown",
      "metadata": {
        "id": "3Licsh5Q_MB4"
      },
      "source": [
        "a) In the dictionary soundtrack_dict what are the keys ?\n",
        "\n",
        "b) In the dictionary soundtrack_dict what are the values ?\n",
        "\n"
      ]
    }
  ]
}